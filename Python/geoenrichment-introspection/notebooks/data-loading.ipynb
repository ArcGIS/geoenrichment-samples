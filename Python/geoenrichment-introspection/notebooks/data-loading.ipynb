{
 "cells": [
  {
   "cell_type": "code",
   "execution_count": 1,
   "metadata": {},
   "outputs": [],
   "source": [
    "import json\n",
    "from pathlib import Path\n",
    "\n",
    "from arcgis.features import GeoAccessor\n",
    "from arcgis.geometry import Geometry\n",
    "import arcpy\n",
    "import pandas as pd"
   ]
  },
  {
   "cell_type": "code",
   "execution_count": 2,
   "metadata": {},
   "outputs": [
    {
     "data": {
      "text/plain": [
       "'D:\\\\projects\\\\olympia-crime\\\\data\\\\interim\\\\interim.gdb\\\\olympia_h3_l09'"
      ]
     },
     "execution_count": 2,
     "metadata": {},
     "output_type": "execute_result"
    }
   ],
   "source": [
    "# paths to common data locations - NOTE: to convert any path to a raw string, simply use str(path_instance)\n",
    "dir_prj = Path.cwd().parent\n",
    "dir_data = dir_prj/'data'\n",
    "dir_raw = dir_data/'raw'\n",
    "dir_int = dir_data/'interim'\n",
    "gdb_int = dir_int/'interim.gdb'\n",
    "\n",
    "# create the interim geodatabase if arcpy is available and it does not already exist\n",
    "if not arcpy.Exists(str(gdb_int)):\n",
    "    arcpy.management.CreateFileGDB(str(gdb_int.parent), gdb_int.name)\n",
    "\n",
    "orig_fc = r'D:\\projects\\olympia-crime\\data\\interim\\interim.gdb\\olympia_h3_l09'\n",
    "\n",
    "orig_fc"
   ]
  },
  {
   "cell_type": "code",
   "execution_count": 21,
   "metadata": {},
   "outputs": [
    {
     "data": {
      "text/html": [
       "<div>\n",
       "<style scoped>\n",
       "    .dataframe tbody tr th:only-of-type {\n",
       "        vertical-align: middle;\n",
       "    }\n",
       "\n",
       "    .dataframe tbody tr th {\n",
       "        vertical-align: top;\n",
       "    }\n",
       "\n",
       "    .dataframe thead th {\n",
       "        text-align: right;\n",
       "    }\n",
       "</style>\n",
       "<table border=\"1\" class=\"dataframe\">\n",
       "  <thead>\n",
       "    <tr style=\"text-align: right;\">\n",
       "      <th></th>\n",
       "      <th>h3_id_str</th>\n",
       "      <th>h3_id</th>\n",
       "      <th>SHAPE</th>\n",
       "    </tr>\n",
       "  </thead>\n",
       "  <tbody>\n",
       "    <tr>\n",
       "      <th>0</th>\n",
       "      <td>8928d590297ffff</td>\n",
       "      <td>617711512338300927</td>\n",
       "      <td>{\"rings\": [[[-122.94740574999997, 47.024184694...</td>\n",
       "    </tr>\n",
       "    <tr>\n",
       "      <th>1</th>\n",
       "      <td>8928d5902b3ffff</td>\n",
       "      <td>617711512340135935</td>\n",
       "      <td>{\"rings\": [[[-122.95158429099996, 47.028134405...</td>\n",
       "    </tr>\n",
       "    <tr>\n",
       "      <th>2</th>\n",
       "      <td>8928d591533ffff</td>\n",
       "      <td>617711512650514431</td>\n",
       "      <td>{\"rings\": [[[-122.92062630199996, 47.028123088...</td>\n",
       "    </tr>\n",
       "    <tr>\n",
       "      <th>3</th>\n",
       "      <td>8928d5916afffff</td>\n",
       "      <td>617711512675418111</td>\n",
       "      <td>{\"rings\": [[[-122.87055727599994, 47.031318454...</td>\n",
       "    </tr>\n",
       "    <tr>\n",
       "      <th>4</th>\n",
       "      <td>8928d591433ffff</td>\n",
       "      <td>617711512633737215</td>\n",
       "      <td>{\"rings\": [[[-122.89294779499994, 47.020566091...</td>\n",
       "    </tr>\n",
       "    <tr>\n",
       "      <th>...</th>\n",
       "      <td>...</td>\n",
       "      <td>...</td>\n",
       "      <td>...</td>\n",
       "    </tr>\n",
       "    <tr>\n",
       "      <th>620</th>\n",
       "      <td>8928d591c6bffff</td>\n",
       "      <td>617711512771624959</td>\n",
       "      <td>{\"rings\": [[[-122.93495716799998, 47.062941352...</td>\n",
       "    </tr>\n",
       "    <tr>\n",
       "      <th>621</th>\n",
       "      <td>8928d5913c3ffff</td>\n",
       "      <td>617711512626397183</td>\n",
       "      <td>{\"rings\": [[[-122.88002538999996, 47.053582475...</td>\n",
       "    </tr>\n",
       "    <tr>\n",
       "      <th>622</th>\n",
       "      <td>8928d5918d7ffff</td>\n",
       "      <td>617711512711593983</td>\n",
       "      <td>{\"rings\": [[[-122.93913735299998, 47.066889033...</td>\n",
       "    </tr>\n",
       "    <tr>\n",
       "      <th>623</th>\n",
       "      <td>8928d59165bffff</td>\n",
       "      <td>617711512669913087</td>\n",
       "      <td>{\"rings\": [[[-122.84353807499997, 47.032367414...</td>\n",
       "    </tr>\n",
       "    <tr>\n",
       "      <th>624</th>\n",
       "      <td>8928d59027bffff</td>\n",
       "      <td>617711512336465919</td>\n",
       "      <td>{\"rings\": [[[-122.93316166599999, 47.039973896...</td>\n",
       "    </tr>\n",
       "  </tbody>\n",
       "</table>\n",
       "<p>625 rows × 3 columns</p>\n",
       "</div>"
      ],
      "text/plain": [
       "           h3_id_str               h3_id                                              SHAPE\n",
       "0    8928d590297ffff  617711512338300927  {\"rings\": [[[-122.94740574999997, 47.024184694...\n",
       "1    8928d5902b3ffff  617711512340135935  {\"rings\": [[[-122.95158429099996, 47.028134405...\n",
       "2    8928d591533ffff  617711512650514431  {\"rings\": [[[-122.92062630199996, 47.028123088...\n",
       "3    8928d5916afffff  617711512675418111  {\"rings\": [[[-122.87055727599994, 47.031318454...\n",
       "4    8928d591433ffff  617711512633737215  {\"rings\": [[[-122.89294779499994, 47.020566091...\n",
       "..               ...                 ...                                                ...\n",
       "620  8928d591c6bffff  617711512771624959  {\"rings\": [[[-122.93495716799998, 47.062941352...\n",
       "621  8928d5913c3ffff  617711512626397183  {\"rings\": [[[-122.88002538999996, 47.053582475...\n",
       "622  8928d5918d7ffff  617711512711593983  {\"rings\": [[[-122.93913735299998, 47.066889033...\n",
       "623  8928d59165bffff  617711512669913087  {\"rings\": [[[-122.84353807499997, 47.032367414...\n",
       "624  8928d59027bffff  617711512336465919  {\"rings\": [[[-122.93316166599999, 47.039973896...\n",
       "\n",
       "[625 rows x 3 columns]"
      ]
     },
     "execution_count": 21,
     "metadata": {},
     "output_type": "execute_result"
    }
   ],
   "source": [
    "orig_df = GeoAccessor.from_featureclass(orig_fc).drop(columns='OBJECTID').spatial.set_geometry('SHAPE', inplace=False)\n",
    "orig_df.SHAPE = orig_df.SHAPE.apply(lambda geom: json.dumps(geom))\n",
    "orig_df"
   ]
  },
  {
   "cell_type": "code",
   "execution_count": 22,
   "metadata": {},
   "outputs": [],
   "source": [
    "orig_df.to_csv(dir_int/'h3_test.csv')"
   ]
  },
  {
   "cell_type": "code",
   "execution_count": 8,
   "metadata": {},
   "outputs": [
    {
     "name": "stdout",
     "output_type": "stream",
     "text": [
      "<class 'pandas.core.frame.DataFrame'>\n",
      "Int64Index: 625 entries, 0 to 624\n",
      "Data columns (total 3 columns):\n",
      " #   Column     Non-Null Count  Dtype   \n",
      "---  ------     --------------  -----   \n",
      " 0   h3_id_str  625 non-null    object  \n",
      " 1   h3_id      625 non-null    object  \n",
      " 2   SHAPE      625 non-null    geometry\n",
      "dtypes: geometry(1), object(2)\n",
      "memory usage: 19.5+ KB\n"
     ]
    },
    {
     "data": {
      "text/html": [
       "<div>\n",
       "<style scoped>\n",
       "    .dataframe tbody tr th:only-of-type {\n",
       "        vertical-align: middle;\n",
       "    }\n",
       "\n",
       "    .dataframe tbody tr th {\n",
       "        vertical-align: top;\n",
       "    }\n",
       "\n",
       "    .dataframe thead th {\n",
       "        text-align: right;\n",
       "    }\n",
       "</style>\n",
       "<table border=\"1\" class=\"dataframe\">\n",
       "  <thead>\n",
       "    <tr style=\"text-align: right;\">\n",
       "      <th></th>\n",
       "      <th>h3_id_str</th>\n",
       "      <th>h3_id</th>\n",
       "      <th>SHAPE</th>\n",
       "    </tr>\n",
       "  </thead>\n",
       "  <tbody>\n",
       "    <tr>\n",
       "      <th>0</th>\n",
       "      <td>8928d590297ffff</td>\n",
       "      <td>617711512338300927</td>\n",
       "      <td>{\"rings\": [[[-122.94740574999997, 47.024184694...</td>\n",
       "    </tr>\n",
       "    <tr>\n",
       "      <th>1</th>\n",
       "      <td>8928d5902b3ffff</td>\n",
       "      <td>617711512340135935</td>\n",
       "      <td>{\"rings\": [[[-122.95158429099996, 47.028134405...</td>\n",
       "    </tr>\n",
       "    <tr>\n",
       "      <th>2</th>\n",
       "      <td>8928d591533ffff</td>\n",
       "      <td>617711512650514431</td>\n",
       "      <td>{\"rings\": [[[-122.92062630199996, 47.028123088...</td>\n",
       "    </tr>\n",
       "    <tr>\n",
       "      <th>3</th>\n",
       "      <td>8928d5916afffff</td>\n",
       "      <td>617711512675418111</td>\n",
       "      <td>{\"rings\": [[[-122.87055727599994, 47.031318454...</td>\n",
       "    </tr>\n",
       "    <tr>\n",
       "      <th>4</th>\n",
       "      <td>8928d591433ffff</td>\n",
       "      <td>617711512633737215</td>\n",
       "      <td>{\"rings\": [[[-122.89294779499994, 47.020566091...</td>\n",
       "    </tr>\n",
       "  </tbody>\n",
       "</table>\n",
       "</div>"
      ],
      "text/plain": [
       "         h3_id_str               h3_id  \\\n",
       "0  8928d590297ffff  617711512338300927   \n",
       "1  8928d5902b3ffff  617711512340135935   \n",
       "2  8928d591533ffff  617711512650514431   \n",
       "3  8928d5916afffff  617711512675418111   \n",
       "4  8928d591433ffff  617711512633737215   \n",
       "\n",
       "                                               SHAPE  \n",
       "0  {\"rings\": [[[-122.94740574999997, 47.024184694...  \n",
       "1  {\"rings\": [[[-122.95158429099996, 47.028134405...  \n",
       "2  {\"rings\": [[[-122.92062630199996, 47.028123088...  \n",
       "3  {\"rings\": [[[-122.87055727599994, 47.031318454...  \n",
       "4  {\"rings\": [[[-122.89294779499994, 47.020566091...  "
      ]
     },
     "execution_count": 8,
     "metadata": {},
     "output_type": "execute_result"
    }
   ],
   "source": [
    "h3_df = pd.read_csv(dir_int/'h3_test.csv', index_col=0)\n",
    "h3_df.SHAPE = h3_df.SHAPE.apply(lambda geom: Geometry(json.loads(geom)))\n",
    "h3_df.h3_id = h3_df.h3_id.astype(str)\n",
    "h3_df.spatial.set_geometry('SHAPE')\n",
    "\n",
    "h3_df.info()\n",
    "h3_df.head()"
   ]
  },
  {
   "cell_type": "code",
   "execution_count": 9,
   "metadata": {},
   "outputs": [
    {
     "data": {
      "text/plain": [
       "'D:\\\\projects\\\\geoenrichment-samples\\\\Python\\\\geoenrichment-introspection\\\\data\\\\interim\\\\interim.gdb\\\\oly_h3'"
      ]
     },
     "execution_count": 9,
     "metadata": {},
     "output_type": "execute_result"
    }
   ],
   "source": [
    "h3_fc = h3_df.spatial.to_featureclass(f'{gdb_int}/oly_h3')\n",
    "\n",
    "h3_fc"
   ]
  },
  {
   "cell_type": "code",
   "execution_count": null,
   "metadata": {},
   "outputs": [],
   "source": []
  }
 ],
 "metadata": {
  "kernelspec": {
   "display_name": "Python 3",
   "language": "python",
   "name": "python3"
  },
  "language_info": {
   "codemirror_mode": {
    "name": "ipython",
    "version": 3
   },
   "file_extension": ".py",
   "mimetype": "text/x-python",
   "name": "python",
   "nbconvert_exporter": "python",
   "pygments_lexer": "ipython3",
   "version": "3.7.11"
  }
 },
 "nbformat": 4,
 "nbformat_minor": 4
}
