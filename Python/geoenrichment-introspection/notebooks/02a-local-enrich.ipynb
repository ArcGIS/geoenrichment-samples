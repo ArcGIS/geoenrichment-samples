{
 "cells": [
  {
   "cell_type": "markdown",
   "metadata": {
    "slideshow": {
     "slide_type": "slide"
    }
   },
   "source": [
    "# Enrich Local\n",
    "\n",
    "If you have ArcGIS Pro with the Business Analyst installed and demographic data for at least one country installed, you can use the `get_countries` and `Country.enrich_variables` function to introspectively retrieve variables to use in the [`arcpy.ba.Enrich` function](https://pro.arcgis.com/en/pro-app/latest/tool-reference/business-analyst/enrich-layer-advanced.htm)."
   ]
  },
  {
   "cell_type": "markdown",
   "metadata": {},
   "source": [
    "## Imports and Setup"
   ]
  },
  {
   "cell_type": "code",
   "execution_count": null,
   "metadata": {},
   "outputs": [],
   "source": [
    "import json\n",
    "from pathlib import Path\n",
    "\n",
    "from arcgis.features import GeoAccessor\n",
    "from arcgis.geometry import Polygon\n",
    "from arcgis.geoenrichment import get_countries, Country  # specific geoenrichment imports\n",
    "from arcgis.gis import GIS\n",
    "import arcpy\n",
    "import pandas as pd"
   ]
  },
  {
   "cell_type": "code",
   "execution_count": null,
   "metadata": {},
   "outputs": [],
   "source": [
    "# paths to common data locations - NOTE: to convert any path to a raw string, simply use str(path_instance)\n",
    "dir_prj = Path.cwd().parent\n",
    "dir_data = dir_prj/'data'\n",
    "dir_raw = dir_data/'raw'\n",
    "dir_int = dir_data/'interim'"
   ]
  },
  {
   "cell_type": "markdown",
   "metadata": {
    "slideshow": {
     "slide_type": "slide"
    }
   },
   "source": [
    "## Discover Available Countries\n",
    "\n",
    "The first step is discovering available countries since most demographic data is organized by country. In the Python API 1.9.1 release the `as_df` parameter has been added to enable discovering available countries as a Pandas Dataframe for ease of discovery and filtering."
   ]
  },
  {
   "cell_type": "code",
   "execution_count": null,
   "metadata": {},
   "outputs": [],
   "source": [
    "# create a GIS object referencing the local ArcGIS Pro instance\n",
    "gis = GIS('Pro')\n",
    "\n",
    "# use this ArcGIS Pro GIS instance as input\n",
    "cntry_df = get_countries(gis, as_df=True)\n",
    "\n",
    "cntry_df"
   ]
  },
  {
   "cell_type": "markdown",
   "metadata": {
    "slideshow": {
     "slide_type": "slide"
    }
   },
   "source": [
    "### Create a Country Object\n",
    "\n",
    "Next, just as in the first notebook, we create a country object for the United States."
   ]
  },
  {
   "cell_type": "code",
   "execution_count": null,
   "metadata": {},
   "outputs": [],
   "source": [
    "# create a USA country object, again using the ArcGIS Pro GIS instance\n",
    "usa = Country('USA', gis=gis)\n",
    "\n",
    "usa"
   ]
  },
  {
   "cell_type": "markdown",
   "metadata": {
    "slideshow": {
     "slide_type": "slide"
    }
   },
   "source": [
    "### Current Year Key Variables\n",
    "\n",
    "Again, we can identify a subset of variables to use, current year key variables."
   ]
  },
  {
   "cell_type": "code",
   "execution_count": null,
   "metadata": {},
   "outputs": [],
   "source": [
    "# retrieve the locally available variables\n",
    "ev = usa.enrich_variables\n",
    "\n",
    "# filter to current year key variables\n",
    "kv = ev[\n",
    "    (ev.name.str.endswith('CY'))\n",
    "    & (ev.data_collection.str.lower().str.contains('key'))\n",
    "].reset_index(drop=True)\n",
    "\n",
    "kv"
   ]
  },
  {
   "cell_type": "markdown",
   "metadata": {
    "slideshow": {
     "slide_type": "slide"
    }
   },
   "source": [
    "## Load Data to Enrich\n",
    "\n",
    "Now, before enriching, we need something to enrich. We are going to use [H3](https://h3geo.org/) level nine hexagon polygons with the associated identifier covering Olympia, WA. The data is stored in a flat CSV file with the geometry saved as Esri JSON. When read with `pd.read_csv`, the column with geometries is recognized as a string Series. To work with it we need to convert all the strings to proper polygon Geometry objects, and tell the GeoAccessor (`spatial`) to recognize the column (`set_geometry`) "
   ]
  },
  {
   "cell_type": "code",
   "execution_count": null,
   "metadata": {},
   "outputs": [],
   "source": [
    "h3_csv = dir_raw/'h3_olympia.csv'\n",
    "\n",
    "# read in the data from a csv file with geometries\n",
    "h3_df = pd.read_csv(h3_csv, index_col=0)\n",
    "\n",
    "# because the geometry is stored as a JSON string, need to convert to geometry\n",
    "h3_df.SHAPE = h3_df.SHAPE.apply(lambda geom: Polygon(json.loads(geom)))\n",
    "\n",
    "# once the geometries are created, we need to tell the GeoAccessor (spatial) to recognize them\n",
    "h3_df.spatial.set_geometry('SHAPE')\n",
    "\n",
    "print(h3_df.info())\n",
    "h3_df.head()"
   ]
  },
  {
   "cell_type": "markdown",
   "metadata": {
    "slideshow": {
     "slide_type": "slide"
    }
   },
   "source": [
    "### Convert to a Feature Class\n",
    "\n",
    "Since ArcGIS Pro geoprocessing tools cannot accept a Pandas Dataframe as input, we conver the Spatially enabled Dataframe to a feature class in RAM."
   ]
  },
  {
   "cell_type": "code",
   "execution_count": null,
   "metadata": {},
   "outputs": [],
   "source": [
    "# convert this to a feature class in RAM so it can be used with ArcGIS Pro GeoProcessing tools\n",
    "h3_fc = h3_df.spatial.to_featureclass('memory/h3_tmp')\n",
    "\n",
    "h3_fc"
   ]
  },
  {
   "cell_type": "markdown",
   "metadata": {
    "slideshow": {
     "slide_type": "slide"
    }
   },
   "source": [
    "## Enrich\n",
    "\n",
    "Yes, now we can enrich the data with the demographic factors we identified using introspection and filtering above. We are using the temporary feature class as input, and also outputting to _another_ temporary feature class. This is so we can load the results back into a Dataframe where it is easy to clean up the schema a little before saving the final result."
   ]
  },
  {
   "cell_type": "code",
   "execution_count": null,
   "metadata": {},
   "outputs": [],
   "source": [
    "enrich_fc = arcpy.ba.EnrichLayer(\n",
    "    in_features=h3_fc,                     # use temporary feature class as input\n",
    "    out_feature_class=f'memory/h3_cy_kv',  # store in memory so can manipulate\n",
    "    variables=list(kv.enrich_name)         # create list from series\n",
    ")[0]                                       # first item from result object\n",
    "\n",
    "enrich_fc"
   ]
  },
  {
   "cell_type": "markdown",
   "metadata": {
    "slideshow": {
     "slide_type": "slide"
    }
   },
   "source": [
    "## Convert to a Dataframe Schema Cleanup\n",
    "\n",
    "After exporting, we can load the results from the temporary feature class into a Pandas Dataframe to clean up the schema."
   ]
  },
  {
   "cell_type": "code",
   "execution_count": null,
   "metadata": {},
   "outputs": [],
   "source": [
    "enrich_df = GeoAccessor.from_featureclass(enrich_fc)\n",
    "\n",
    "print(enrich_df.info())\n",
    "enrich_df.head()"
   ]
  },
  {
   "cell_type": "markdown",
   "metadata": {
    "slideshow": {
     "slide_type": "slide"
    }
   },
   "source": [
    "### Keep Only Needed Columns\n",
    "\n",
    "By introspectively looking at the inputs we can create a list of only what we want in the output."
   ]
  },
  {
   "cell_type": "code",
   "execution_count": null,
   "metadata": {},
   "outputs": [],
   "source": [
    "drop_cols = [c for c in enrich_df.columns if not\n",
    "    (c in kv.enrich_field_name.values           # enrich variables' output field names\n",
    "     or c in h3_df.columns                      # input data column names\n",
    "     or c.lower() == 'hasdata')                 # if row received demographc factors\n",
    "]\n",
    "enrich_df.drop(columns=drop_cols, inplace=True)\n",
    "\n",
    "enrich_df.info()"
   ]
  },
  {
   "cell_type": "markdown",
   "metadata": {
    "slideshow": {
     "slide_type": "slide"
    }
   },
   "source": [
    "## Clean up Column Names\n",
    "\n",
    "We also can use a short helper function with a list comprehension to retrieve just the variable name."
   ]
  },
  {
   "cell_type": "code",
   "execution_count": null,
   "metadata": {},
   "outputs": [],
   "source": [
    "def lookup_column(col_nm):\n",
    "    lookup_fltr = ev.enrich_field_name.str.contains(col_nm)\n",
    "    if any(lookup_fltr):\n",
    "        col_nm = ev[lookup_fltr]['name'].iloc[0]\n",
    "    return col_nm\n",
    "\n",
    "enrich_df.columns = [lookup_column(c) for c in enrich_df.columns]\n",
    "\n",
    "print(enrich_df.info())"
   ]
  },
  {
   "cell_type": "markdown",
   "metadata": {
    "slideshow": {
     "slide_type": "slide"
    }
   },
   "source": [
    "## Save Results\n",
    "\n",
    "Finally, the results can be saved using the `pd.spatial.to_featureclass` method, or alternately, if desired, the results can also be saved back to a CSV file. However, the geometry objects must be deserialized back to strings before exporting. This is accomplished using the `Geometry.JSON` method."
   ]
  },
  {
   "cell_type": "code",
   "execution_count": null,
   "metadata": {},
   "outputs": [],
   "source": [
    "# convert geometry objects to strings\n",
    "enrich_df[enrich_df.spatial.name] = enrich_df[enrich_df.spatial.name].apply(lambda geom: geom.JSON)\n",
    "\n",
    "# save to interim data diretory for further analysis\n",
    "dir_int.mkdir(exist_ok=True)\n",
    "enrich_df.to_csv(dir_int/'enrich_olympia_local.csv')"
   ]
  }
 ],
 "metadata": {
  "kernelspec": {
   "display_name": "Python 3",
   "language": "python",
   "name": "python3"
  },
  "language_info": {
   "codemirror_mode": {
    "name": "ipython",
    "version": 3
   },
   "file_extension": ".py",
   "mimetype": "text/x-python",
   "name": "python",
   "nbconvert_exporter": "python",
   "pygments_lexer": "ipython3",
   "version": "3.7.10"
  }
 },
 "nbformat": 4,
 "nbformat_minor": 4
}
