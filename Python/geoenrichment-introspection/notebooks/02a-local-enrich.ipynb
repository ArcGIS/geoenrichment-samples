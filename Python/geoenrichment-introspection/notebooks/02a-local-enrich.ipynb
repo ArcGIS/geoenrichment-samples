{
 "cells": [
  {
   "cell_type": "markdown",
   "metadata": {
    "slideshow": {
     "slide_type": "slide"
    }
   },
   "source": [
    "# Enrich Local\n",
    "\n",
    "If you have ArcGIS Pro with the Business Analyst installed and demographic data for at least one country installed, you can use the `get_countries` and `Country.enrich_variables` function to introspectively retrieve variables to use in the [`arcpy.ba.Enrich` function](https://pro.arcgis.com/en/pro-app/latest/tool-reference/business-analyst/enrich-layer-advanced.htm)."
   ]
  },
  {
   "cell_type": "markdown",
   "metadata": {},
   "source": [
    "## Imports and Setup"
   ]
  },
  {
   "cell_type": "code",
   "execution_count": 1,
   "metadata": {},
   "outputs": [],
   "source": [
    "import json\n",
    "from pathlib import Path\n",
    "\n",
    "from arcgis.features import GeoAccessor\n",
    "from arcgis.geometry import Polygon\n",
    "from arcgis.geoenrichment import get_countries, Country  # specific geoenrichment imports\n",
    "from arcgis.gis import GIS\n",
    "import arcpy\n",
    "import pandas as pd"
   ]
  },
  {
   "cell_type": "code",
   "execution_count": 2,
   "metadata": {},
   "outputs": [],
   "source": [
    "# paths to common data locations - NOTE: to convert any path to a raw string, simply use str(path_instance)\n",
    "dir_prj = Path.cwd().parent\n",
    "dir_data = dir_prj/'data'\n",
    "dir_raw = dir_data/'raw'\n",
    "dir_int = dir_data/'interim'"
   ]
  },
  {
   "cell_type": "markdown",
   "metadata": {
    "slideshow": {
     "slide_type": "slide"
    }
   },
   "source": [
    "## Discover Available Countries\n",
    "\n",
    "The first step is discovering which countries are available since most demographic data is organized by country. In the Python API 1.9.1 release the `as_df` parameter has been added to enable discovering available countries as a Pandas Dataframe for ease of discovery and filtering."
   ]
  },
  {
   "cell_type": "code",
   "execution_count": 3,
   "metadata": {
    "slideshow": {
     "slide_type": "fragment"
    }
   },
   "outputs": [
    {
     "data": {
      "text/html": [
       "<div>\n",
       "<style scoped>\n",
       "    .dataframe tbody tr th:only-of-type {\n",
       "        vertical-align: middle;\n",
       "    }\n",
       "\n",
       "    .dataframe tbody tr th {\n",
       "        vertical-align: top;\n",
       "    }\n",
       "\n",
       "    .dataframe thead th {\n",
       "        text-align: right;\n",
       "    }\n",
       "</style>\n",
       "<table border=\"1\" class=\"dataframe\">\n",
       "  <thead>\n",
       "    <tr style=\"text-align: right;\">\n",
       "      <th></th>\n",
       "      <th>iso2</th>\n",
       "      <th>iso3</th>\n",
       "      <th>country_name</th>\n",
       "      <th>vintage</th>\n",
       "      <th>country_id</th>\n",
       "      <th>data_source_id</th>\n",
       "    </tr>\n",
       "  </thead>\n",
       "  <tbody>\n",
       "    <tr>\n",
       "      <th>0</th>\n",
       "      <td>CA</td>\n",
       "      <td>CAN</td>\n",
       "      <td>Canada</td>\n",
       "      <td>2020</td>\n",
       "      <td>CAN_ESRI_2019</td>\n",
       "      <td>LOCAL;;CAN_ESRI_2019</td>\n",
       "    </tr>\n",
       "    <tr>\n",
       "      <th>1</th>\n",
       "      <td>JP</td>\n",
       "      <td>JPN</td>\n",
       "      <td>Japan</td>\n",
       "      <td>2020</td>\n",
       "      <td>JAPAN2020</td>\n",
       "      <td>LOCAL;;JAPAN2020</td>\n",
       "    </tr>\n",
       "    <tr>\n",
       "      <th>2</th>\n",
       "      <td>US</td>\n",
       "      <td>USA</td>\n",
       "      <td>United States</td>\n",
       "      <td>2019</td>\n",
       "      <td>USA_ESRI_2019</td>\n",
       "      <td>LOCAL;;USA_ESRI_2019</td>\n",
       "    </tr>\n",
       "    <tr>\n",
       "      <th>3</th>\n",
       "      <td>US</td>\n",
       "      <td>USA</td>\n",
       "      <td>United States</td>\n",
       "      <td>2020</td>\n",
       "      <td>USA_ESRI_2020</td>\n",
       "      <td>LOCAL;;USA_ESRI_2020</td>\n",
       "    </tr>\n",
       "    <tr>\n",
       "      <th>4</th>\n",
       "      <td>US</td>\n",
       "      <td>USA</td>\n",
       "      <td>United States</td>\n",
       "      <td>2021</td>\n",
       "      <td>USA_ESRI_2021</td>\n",
       "      <td>LOCAL;;USA_ESRI_2021</td>\n",
       "    </tr>\n",
       "  </tbody>\n",
       "</table>\n",
       "</div>"
      ],
      "text/plain": [
       "  iso2 iso3   country_name  vintage     country_id        data_source_id\n",
       "0   CA  CAN         Canada     2020  CAN_ESRI_2019  LOCAL;;CAN_ESRI_2019\n",
       "1   JP  JPN          Japan     2020      JAPAN2020      LOCAL;;JAPAN2020\n",
       "2   US  USA  United States     2019  USA_ESRI_2019  LOCAL;;USA_ESRI_2019\n",
       "3   US  USA  United States     2020  USA_ESRI_2020  LOCAL;;USA_ESRI_2020\n",
       "4   US  USA  United States     2021  USA_ESRI_2021  LOCAL;;USA_ESRI_2021"
      ]
     },
     "execution_count": 3,
     "metadata": {},
     "output_type": "execute_result"
    }
   ],
   "source": [
    "# create a GIS object referencing the local ArcGIS Pro instance\n",
    "gis = GIS('Pro')\n",
    "\n",
    "# use this ArcGIS Pro GIS instance as input\n",
    "cntry_df = get_countries(gis, as_df=True)\n",
    "\n",
    "cntry_df"
   ]
  },
  {
   "cell_type": "markdown",
   "metadata": {
    "slideshow": {
     "slide_type": "slide"
    }
   },
   "source": [
    "### Create a Country Object\n",
    "\n",
    "Next, just as in the first notebook, we create a country object for the United States."
   ]
  },
  {
   "cell_type": "code",
   "execution_count": 4,
   "metadata": {
    "slideshow": {
     "slide_type": "fragment"
    }
   },
   "outputs": [
    {
     "data": {
      "text/plain": [
       "<Country - United States 2021 ('local')>"
      ]
     },
     "execution_count": 4,
     "metadata": {},
     "output_type": "execute_result"
    }
   ],
   "source": [
    "# create a USA country object, again using the ArcGIS Pro GIS instance\n",
    "usa = Country('USA', gis=gis)\n",
    "\n",
    "usa"
   ]
  },
  {
   "cell_type": "markdown",
   "metadata": {
    "slideshow": {
     "slide_type": "slide"
    }
   },
   "source": [
    "### Current Year Key Variables\n",
    "\n",
    "Also, just like in the previous notebook, we can identify a subset of variables to use, current year key variables."
   ]
  },
  {
   "cell_type": "code",
   "execution_count": 5,
   "metadata": {
    "slideshow": {
     "slide_type": "fragment"
    }
   },
   "outputs": [
    {
     "data": {
      "text/html": [
       "<div>\n",
       "<style scoped>\n",
       "    .dataframe tbody tr th:only-of-type {\n",
       "        vertical-align: middle;\n",
       "    }\n",
       "\n",
       "    .dataframe tbody tr th {\n",
       "        vertical-align: top;\n",
       "    }\n",
       "\n",
       "    .dataframe thead th {\n",
       "        text-align: right;\n",
       "    }\n",
       "</style>\n",
       "<table border=\"1\" class=\"dataframe\">\n",
       "  <thead>\n",
       "    <tr style=\"text-align: right;\">\n",
       "      <th></th>\n",
       "      <th>name</th>\n",
       "      <th>alias</th>\n",
       "      <th>data_collection</th>\n",
       "      <th>enrich_name</th>\n",
       "      <th>enrich_field_name</th>\n",
       "    </tr>\n",
       "  </thead>\n",
       "  <tbody>\n",
       "    <tr>\n",
       "      <th>0</th>\n",
       "      <td>TOTPOP_CY</td>\n",
       "      <td>2021 Total Population</td>\n",
       "      <td>KeyUSFacts</td>\n",
       "      <td>KeyUSFacts.TOTPOP_CY</td>\n",
       "      <td>KeyUSFacts_TOTPOP_CY</td>\n",
       "    </tr>\n",
       "    <tr>\n",
       "      <th>1</th>\n",
       "      <td>GQPOP_CY</td>\n",
       "      <td>2021 Group Quarters Population</td>\n",
       "      <td>KeyUSFacts</td>\n",
       "      <td>KeyUSFacts.GQPOP_CY</td>\n",
       "      <td>KeyUSFacts_GQPOP_CY</td>\n",
       "    </tr>\n",
       "    <tr>\n",
       "      <th>2</th>\n",
       "      <td>DIVINDX_CY</td>\n",
       "      <td>2021 Diversity Index</td>\n",
       "      <td>KeyUSFacts</td>\n",
       "      <td>KeyUSFacts.DIVINDX_CY</td>\n",
       "      <td>KeyUSFacts_DIVINDX_CY</td>\n",
       "    </tr>\n",
       "    <tr>\n",
       "      <th>3</th>\n",
       "      <td>TOTHH_CY</td>\n",
       "      <td>2021 Total Households</td>\n",
       "      <td>KeyUSFacts</td>\n",
       "      <td>KeyUSFacts.TOTHH_CY</td>\n",
       "      <td>KeyUSFacts_TOTHH_CY</td>\n",
       "    </tr>\n",
       "    <tr>\n",
       "      <th>4</th>\n",
       "      <td>AVGHHSZ_CY</td>\n",
       "      <td>2021 Average Household Size</td>\n",
       "      <td>KeyUSFacts</td>\n",
       "      <td>KeyUSFacts.AVGHHSZ_CY</td>\n",
       "      <td>KeyUSFacts_AVGHHSZ_CY</td>\n",
       "    </tr>\n",
       "    <tr>\n",
       "      <th>5</th>\n",
       "      <td>MEDHINC_CY</td>\n",
       "      <td>2021 Median Household Income</td>\n",
       "      <td>KeyUSFacts</td>\n",
       "      <td>KeyUSFacts.MEDHINC_CY</td>\n",
       "      <td>KeyUSFacts_MEDHINC_CY</td>\n",
       "    </tr>\n",
       "    <tr>\n",
       "      <th>6</th>\n",
       "      <td>AVGHINC_CY</td>\n",
       "      <td>2021 Average Household Income</td>\n",
       "      <td>KeyUSFacts</td>\n",
       "      <td>KeyUSFacts.AVGHINC_CY</td>\n",
       "      <td>KeyUSFacts_AVGHINC_CY</td>\n",
       "    </tr>\n",
       "    <tr>\n",
       "      <th>7</th>\n",
       "      <td>PCI_CY</td>\n",
       "      <td>2021 Per Capita Income</td>\n",
       "      <td>KeyUSFacts</td>\n",
       "      <td>KeyUSFacts.PCI_CY</td>\n",
       "      <td>KeyUSFacts_PCI_CY</td>\n",
       "    </tr>\n",
       "    <tr>\n",
       "      <th>8</th>\n",
       "      <td>TOTHU_CY</td>\n",
       "      <td>2021 Total Housing Units</td>\n",
       "      <td>KeyUSFacts</td>\n",
       "      <td>KeyUSFacts.TOTHU_CY</td>\n",
       "      <td>KeyUSFacts_TOTHU_CY</td>\n",
       "    </tr>\n",
       "    <tr>\n",
       "      <th>9</th>\n",
       "      <td>OWNER_CY</td>\n",
       "      <td>2021 Owner Occupied HUs</td>\n",
       "      <td>KeyUSFacts</td>\n",
       "      <td>KeyUSFacts.OWNER_CY</td>\n",
       "      <td>KeyUSFacts_OWNER_CY</td>\n",
       "    </tr>\n",
       "    <tr>\n",
       "      <th>10</th>\n",
       "      <td>RENTER_CY</td>\n",
       "      <td>2021 Renter Occupied HUs</td>\n",
       "      <td>KeyUSFacts</td>\n",
       "      <td>KeyUSFacts.RENTER_CY</td>\n",
       "      <td>KeyUSFacts_RENTER_CY</td>\n",
       "    </tr>\n",
       "    <tr>\n",
       "      <th>11</th>\n",
       "      <td>VACANT_CY</td>\n",
       "      <td>2021 Vacant Housing Units</td>\n",
       "      <td>KeyUSFacts</td>\n",
       "      <td>KeyUSFacts.VACANT_CY</td>\n",
       "      <td>KeyUSFacts_VACANT_CY</td>\n",
       "    </tr>\n",
       "    <tr>\n",
       "      <th>12</th>\n",
       "      <td>MEDVAL_CY</td>\n",
       "      <td>2021 Median Home Value</td>\n",
       "      <td>KeyUSFacts</td>\n",
       "      <td>KeyUSFacts.MEDVAL_CY</td>\n",
       "      <td>KeyUSFacts_MEDVAL_CY</td>\n",
       "    </tr>\n",
       "    <tr>\n",
       "      <th>13</th>\n",
       "      <td>AVGVAL_CY</td>\n",
       "      <td>2021 Average Home Value</td>\n",
       "      <td>KeyUSFacts</td>\n",
       "      <td>KeyUSFacts.AVGVAL_CY</td>\n",
       "      <td>KeyUSFacts_AVGVAL_CY</td>\n",
       "    </tr>\n",
       "    <tr>\n",
       "      <th>14</th>\n",
       "      <td>POPGRW10CY</td>\n",
       "      <td>2010-2021 Growth Rate: Population</td>\n",
       "      <td>KeyUSFacts</td>\n",
       "      <td>KeyUSFacts.POPGRW10CY</td>\n",
       "      <td>KeyUSFacts_POPGRW10CY</td>\n",
       "    </tr>\n",
       "    <tr>\n",
       "      <th>15</th>\n",
       "      <td>HHGRW10CY</td>\n",
       "      <td>2010-2021 Growth Rate: Households</td>\n",
       "      <td>KeyUSFacts</td>\n",
       "      <td>KeyUSFacts.HHGRW10CY</td>\n",
       "      <td>KeyUSFacts_HHGRW10CY</td>\n",
       "    </tr>\n",
       "    <tr>\n",
       "      <th>16</th>\n",
       "      <td>FAMGRW10CY</td>\n",
       "      <td>2010-2021 Growth Rate: Families</td>\n",
       "      <td>KeyUSFacts</td>\n",
       "      <td>KeyUSFacts.FAMGRW10CY</td>\n",
       "      <td>KeyUSFacts_FAMGRW10CY</td>\n",
       "    </tr>\n",
       "    <tr>\n",
       "      <th>17</th>\n",
       "      <td>DPOP_CY</td>\n",
       "      <td>2021 Total Daytime Population</td>\n",
       "      <td>KeyUSFacts</td>\n",
       "      <td>KeyUSFacts.DPOP_CY</td>\n",
       "      <td>KeyUSFacts_DPOP_CY</td>\n",
       "    </tr>\n",
       "    <tr>\n",
       "      <th>18</th>\n",
       "      <td>DPOPWRK_CY</td>\n",
       "      <td>2021 Daytime Pop: Workers</td>\n",
       "      <td>KeyUSFacts</td>\n",
       "      <td>KeyUSFacts.DPOPWRK_CY</td>\n",
       "      <td>KeyUSFacts_DPOPWRK_CY</td>\n",
       "    </tr>\n",
       "    <tr>\n",
       "      <th>19</th>\n",
       "      <td>DPOPRES_CY</td>\n",
       "      <td>2021 Daytime Pop: Residents</td>\n",
       "      <td>KeyUSFacts</td>\n",
       "      <td>KeyUSFacts.DPOPRES_CY</td>\n",
       "      <td>KeyUSFacts_DPOPRES_CY</td>\n",
       "    </tr>\n",
       "  </tbody>\n",
       "</table>\n",
       "</div>"
      ],
      "text/plain": [
       "          name                              alias data_collection  \\\n",
       "0    TOTPOP_CY              2021 Total Population      KeyUSFacts   \n",
       "1     GQPOP_CY     2021 Group Quarters Population      KeyUSFacts   \n",
       "2   DIVINDX_CY               2021 Diversity Index      KeyUSFacts   \n",
       "3     TOTHH_CY              2021 Total Households      KeyUSFacts   \n",
       "4   AVGHHSZ_CY        2021 Average Household Size      KeyUSFacts   \n",
       "5   MEDHINC_CY       2021 Median Household Income      KeyUSFacts   \n",
       "6   AVGHINC_CY      2021 Average Household Income      KeyUSFacts   \n",
       "7       PCI_CY             2021 Per Capita Income      KeyUSFacts   \n",
       "8     TOTHU_CY           2021 Total Housing Units      KeyUSFacts   \n",
       "9     OWNER_CY            2021 Owner Occupied HUs      KeyUSFacts   \n",
       "10   RENTER_CY           2021 Renter Occupied HUs      KeyUSFacts   \n",
       "11   VACANT_CY          2021 Vacant Housing Units      KeyUSFacts   \n",
       "12   MEDVAL_CY             2021 Median Home Value      KeyUSFacts   \n",
       "13   AVGVAL_CY            2021 Average Home Value      KeyUSFacts   \n",
       "14  POPGRW10CY  2010-2021 Growth Rate: Population      KeyUSFacts   \n",
       "15   HHGRW10CY  2010-2021 Growth Rate: Households      KeyUSFacts   \n",
       "16  FAMGRW10CY    2010-2021 Growth Rate: Families      KeyUSFacts   \n",
       "17     DPOP_CY      2021 Total Daytime Population      KeyUSFacts   \n",
       "18  DPOPWRK_CY          2021 Daytime Pop: Workers      KeyUSFacts   \n",
       "19  DPOPRES_CY        2021 Daytime Pop: Residents      KeyUSFacts   \n",
       "\n",
       "              enrich_name      enrich_field_name  \n",
       "0    KeyUSFacts.TOTPOP_CY   KeyUSFacts_TOTPOP_CY  \n",
       "1     KeyUSFacts.GQPOP_CY    KeyUSFacts_GQPOP_CY  \n",
       "2   KeyUSFacts.DIVINDX_CY  KeyUSFacts_DIVINDX_CY  \n",
       "3     KeyUSFacts.TOTHH_CY    KeyUSFacts_TOTHH_CY  \n",
       "4   KeyUSFacts.AVGHHSZ_CY  KeyUSFacts_AVGHHSZ_CY  \n",
       "5   KeyUSFacts.MEDHINC_CY  KeyUSFacts_MEDHINC_CY  \n",
       "6   KeyUSFacts.AVGHINC_CY  KeyUSFacts_AVGHINC_CY  \n",
       "7       KeyUSFacts.PCI_CY      KeyUSFacts_PCI_CY  \n",
       "8     KeyUSFacts.TOTHU_CY    KeyUSFacts_TOTHU_CY  \n",
       "9     KeyUSFacts.OWNER_CY    KeyUSFacts_OWNER_CY  \n",
       "10   KeyUSFacts.RENTER_CY   KeyUSFacts_RENTER_CY  \n",
       "11   KeyUSFacts.VACANT_CY   KeyUSFacts_VACANT_CY  \n",
       "12   KeyUSFacts.MEDVAL_CY   KeyUSFacts_MEDVAL_CY  \n",
       "13   KeyUSFacts.AVGVAL_CY   KeyUSFacts_AVGVAL_CY  \n",
       "14  KeyUSFacts.POPGRW10CY  KeyUSFacts_POPGRW10CY  \n",
       "15   KeyUSFacts.HHGRW10CY   KeyUSFacts_HHGRW10CY  \n",
       "16  KeyUSFacts.FAMGRW10CY  KeyUSFacts_FAMGRW10CY  \n",
       "17     KeyUSFacts.DPOP_CY     KeyUSFacts_DPOP_CY  \n",
       "18  KeyUSFacts.DPOPWRK_CY  KeyUSFacts_DPOPWRK_CY  \n",
       "19  KeyUSFacts.DPOPRES_CY  KeyUSFacts_DPOPRES_CY  "
      ]
     },
     "execution_count": 5,
     "metadata": {},
     "output_type": "execute_result"
    }
   ],
   "source": [
    "# retrieve the locally available variables\n",
    "ev = usa.enrich_variables\n",
    "\n",
    "# filter to current year key variables\n",
    "kv = ev[\n",
    "    (ev.name.str.endswith('CY'))\n",
    "    & (ev.data_collection.str.lower().str.contains('key'))\n",
    "].reset_index(drop=True)\n",
    "\n",
    "kv"
   ]
  },
  {
   "cell_type": "markdown",
   "metadata": {
    "slideshow": {
     "slide_type": "slide"
    }
   },
   "source": [
    "## Load Data to Enrich\n",
    "\n",
    "Now, before enriching, we need something to enrich. We are going to use [H3](https://h3geo.org/) level nine hexagon polygons with the associated identifier covering Olympia, WA. The data is stored in a flat CSV file with the geometry saved as Esri JSON. When read with `pd.read_csv`, the column with geometries is recognized as a string Series. To work with it we need to convert all the strings to proper polygon Geometry objects, and tell the GeoAccessor (`spatial`) to recognize the column (`set_geometry`) "
   ]
  },
  {
   "cell_type": "code",
   "execution_count": 6,
   "metadata": {
    "slideshow": {
     "slide_type": "fragment"
    }
   },
   "outputs": [
    {
     "name": "stdout",
     "output_type": "stream",
     "text": [
      "<class 'pandas.core.frame.DataFrame'>\n",
      "Int64Index: 625 entries, 0 to 624\n",
      "Data columns (total 2 columns):\n",
      " #   Column  Non-Null Count  Dtype   \n",
      "---  ------  --------------  -----   \n",
      " 0   h3_09   625 non-null    object  \n",
      " 1   SHAPE   625 non-null    geometry\n",
      "dtypes: geometry(1), object(1)\n",
      "memory usage: 14.6+ KB\n",
      "None\n"
     ]
    },
    {
     "data": {
      "text/html": [
       "<div>\n",
       "<style scoped>\n",
       "    .dataframe tbody tr th:only-of-type {\n",
       "        vertical-align: middle;\n",
       "    }\n",
       "\n",
       "    .dataframe tbody tr th {\n",
       "        vertical-align: top;\n",
       "    }\n",
       "\n",
       "    .dataframe thead th {\n",
       "        text-align: right;\n",
       "    }\n",
       "</style>\n",
       "<table border=\"1\" class=\"dataframe\">\n",
       "  <thead>\n",
       "    <tr style=\"text-align: right;\">\n",
       "      <th></th>\n",
       "      <th>h3_09</th>\n",
       "      <th>SHAPE</th>\n",
       "    </tr>\n",
       "  </thead>\n",
       "  <tbody>\n",
       "    <tr>\n",
       "      <th>0</th>\n",
       "      <td>8928d590297ffff</td>\n",
       "      <td>{\"rings\": [[[-122.94740574999997, 47.024184694...</td>\n",
       "    </tr>\n",
       "    <tr>\n",
       "      <th>1</th>\n",
       "      <td>8928d5902b3ffff</td>\n",
       "      <td>{\"rings\": [[[-122.95158429099996, 47.028134405...</td>\n",
       "    </tr>\n",
       "    <tr>\n",
       "      <th>2</th>\n",
       "      <td>8928d591533ffff</td>\n",
       "      <td>{\"rings\": [[[-122.92062630199996, 47.028123088...</td>\n",
       "    </tr>\n",
       "    <tr>\n",
       "      <th>3</th>\n",
       "      <td>8928d5916afffff</td>\n",
       "      <td>{\"rings\": [[[-122.87055727599994, 47.031318454...</td>\n",
       "    </tr>\n",
       "    <tr>\n",
       "      <th>4</th>\n",
       "      <td>8928d591433ffff</td>\n",
       "      <td>{\"rings\": [[[-122.89294779499994, 47.020566091...</td>\n",
       "    </tr>\n",
       "  </tbody>\n",
       "</table>\n",
       "</div>"
      ],
      "text/plain": [
       "             h3_09                                              SHAPE\n",
       "0  8928d590297ffff  {\"rings\": [[[-122.94740574999997, 47.024184694...\n",
       "1  8928d5902b3ffff  {\"rings\": [[[-122.95158429099996, 47.028134405...\n",
       "2  8928d591533ffff  {\"rings\": [[[-122.92062630199996, 47.028123088...\n",
       "3  8928d5916afffff  {\"rings\": [[[-122.87055727599994, 47.031318454...\n",
       "4  8928d591433ffff  {\"rings\": [[[-122.89294779499994, 47.020566091..."
      ]
     },
     "execution_count": 6,
     "metadata": {},
     "output_type": "execute_result"
    }
   ],
   "source": [
    "h3_csv = dir_raw/'h3_olympia.csv'\n",
    "\n",
    "# read in the data from a csv file with geometries\n",
    "h3_df = pd.read_csv(h3_csv, index_col=0)\n",
    "\n",
    "# because the geometry is stored as a JSON string, we need to convert it to a proper polygon geometry object\n",
    "h3_df.SHAPE = h3_df.SHAPE.apply(lambda geom: Polygon(json.loads(geom)))\n",
    "\n",
    "# once the geometries are created, we need to tell the GeoAccessor (spatial) to recognize them\n",
    "h3_df.spatial.set_geometry('SHAPE')\n",
    "\n",
    "print(h3_df.info())\n",
    "h3_df.head()"
   ]
  },
  {
   "cell_type": "markdown",
   "metadata": {
    "slideshow": {
     "slide_type": "slide"
    }
   },
   "source": [
    "### Convert to a Feature Class\n",
    "\n",
    "Since ArcGIS Pro geoprocessing tools cannot accept a Pandas Dataframe as input, we conver the Spatially enabled Dataframe to a feature class in RAM."
   ]
  },
  {
   "cell_type": "code",
   "execution_count": 7,
   "metadata": {
    "slideshow": {
     "slide_type": "fragment"
    }
   },
   "outputs": [
    {
     "data": {
      "text/plain": [
       "'memory\\\\h3_tmp'"
      ]
     },
     "execution_count": 7,
     "metadata": {},
     "output_type": "execute_result"
    }
   ],
   "source": [
    "# convert this to a feature class in RAM so it can be used with ArcGIS Pro GeoProcessing tools\n",
    "h3_fc = h3_df.spatial.to_featureclass('memory/h3_tmp')\n",
    "\n",
    "h3_fc"
   ]
  },
  {
   "cell_type": "markdown",
   "metadata": {
    "slideshow": {
     "slide_type": "slide"
    }
   },
   "source": [
    "## Enrich\n",
    "\n",
    "Yes, now we can enrich the data with the demographic factors we identified using introspection and filtering above. We are using the temporary feature class as input, and also outputting to _another_ temporary feature class. This is so we can load the results back into a Dataframe where it is easy to clean up the schema a little before saving the final result."
   ]
  },
  {
   "cell_type": "code",
   "execution_count": 8,
   "metadata": {
    "slideshow": {
     "slide_type": "fragment"
    }
   },
   "outputs": [
    {
     "data": {
      "text/plain": [
       "'memory\\\\h3_cy_kv'"
      ]
     },
     "execution_count": 8,
     "metadata": {},
     "output_type": "execute_result"
    }
   ],
   "source": [
    "enrich_fc = arcpy.ba.EnrichLayer(\n",
    "    in_features=h3_fc,                     # use the temporary feature class as input\n",
    "    out_feature_class=f'memory/h3_cy_kv',  # store in memory so can manipulate before saving\n",
    "    variables=list(kv.enrich_name)         # create a list from the enrich variable series\n",
    ")[0]                                       # specifying the first item from the result object, which is the output\n",
    "\n",
    "enrich_fc"
   ]
  },
  {
   "cell_type": "markdown",
   "metadata": {
    "slideshow": {
     "slide_type": "slide"
    }
   },
   "source": [
    "## Convert to a Dataframe Schema Cleanup\n",
    "\n",
    "After exporting, we can load the results from the temporary feature class into a Pandas Dataframe to clean up the schema."
   ]
  },
  {
   "cell_type": "code",
   "execution_count": 9,
   "metadata": {
    "slideshow": {
     "slide_type": "fragment"
    }
   },
   "outputs": [
    {
     "name": "stdout",
     "output_type": "stream",
     "text": [
      "<class 'pandas.core.frame.DataFrame'>\n",
      "RangeIndex: 625 entries, 0 to 624\n",
      "Data columns (total 25 columns):\n",
      " #   Column                 Non-Null Count  Dtype   \n",
      "---  ------                 --------------  -----   \n",
      " 0   OBJECTID               625 non-null    int64   \n",
      " 1   h3_09                  625 non-null    object  \n",
      " 2   HasData                625 non-null    int64   \n",
      " 3   aggregationMethod      625 non-null    object  \n",
      " 4   KeyUSFacts_TOTPOP_CY   625 non-null    float64 \n",
      " 5   KeyUSFacts_GQPOP_CY    625 non-null    float64 \n",
      " 6   KeyUSFacts_DIVINDX_CY  625 non-null    float64 \n",
      " 7   KeyUSFacts_TOTHH_CY    625 non-null    float64 \n",
      " 8   KeyUSFacts_AVGHHSZ_CY  625 non-null    float64 \n",
      " 9   KeyUSFacts_MEDHINC_CY  625 non-null    float64 \n",
      " 10  KeyUSFacts_AVGHINC_CY  625 non-null    float64 \n",
      " 11  KeyUSFacts_PCI_CY      625 non-null    float64 \n",
      " 12  KeyUSFacts_TOTHU_CY    625 non-null    float64 \n",
      " 13  KeyUSFacts_OWNER_CY    625 non-null    float64 \n",
      " 14  KeyUSFacts_RENTER_CY   625 non-null    float64 \n",
      " 15  KeyUSFacts_VACANT_CY   625 non-null    float64 \n",
      " 16  KeyUSFacts_MEDVAL_CY   625 non-null    float64 \n",
      " 17  KeyUSFacts_AVGVAL_CY   625 non-null    float64 \n",
      " 18  KeyUSFacts_POPGRW10CY  625 non-null    float64 \n",
      " 19  KeyUSFacts_HHGRW10CY   625 non-null    float64 \n",
      " 20  KeyUSFacts_FAMGRW10CY  625 non-null    float64 \n",
      " 21  KeyUSFacts_DPOP_CY     625 non-null    float64 \n",
      " 22  KeyUSFacts_DPOPWRK_CY  625 non-null    float64 \n",
      " 23  KeyUSFacts_DPOPRES_CY  625 non-null    float64 \n",
      " 24  SHAPE                  625 non-null    geometry\n",
      "dtypes: float64(20), geometry(1), int64(2), object(2)\n",
      "memory usage: 122.2+ KB\n",
      "None\n"
     ]
    },
    {
     "data": {
      "text/html": [
       "<div>\n",
       "<style scoped>\n",
       "    .dataframe tbody tr th:only-of-type {\n",
       "        vertical-align: middle;\n",
       "    }\n",
       "\n",
       "    .dataframe tbody tr th {\n",
       "        vertical-align: top;\n",
       "    }\n",
       "\n",
       "    .dataframe thead th {\n",
       "        text-align: right;\n",
       "    }\n",
       "</style>\n",
       "<table border=\"1\" class=\"dataframe\">\n",
       "  <thead>\n",
       "    <tr style=\"text-align: right;\">\n",
       "      <th></th>\n",
       "      <th>OBJECTID</th>\n",
       "      <th>h3_09</th>\n",
       "      <th>HasData</th>\n",
       "      <th>aggregationMethod</th>\n",
       "      <th>KeyUSFacts_TOTPOP_CY</th>\n",
       "      <th>KeyUSFacts_GQPOP_CY</th>\n",
       "      <th>KeyUSFacts_DIVINDX_CY</th>\n",
       "      <th>KeyUSFacts_TOTHH_CY</th>\n",
       "      <th>KeyUSFacts_AVGHHSZ_CY</th>\n",
       "      <th>KeyUSFacts_MEDHINC_CY</th>\n",
       "      <th>...</th>\n",
       "      <th>KeyUSFacts_VACANT_CY</th>\n",
       "      <th>KeyUSFacts_MEDVAL_CY</th>\n",
       "      <th>KeyUSFacts_AVGVAL_CY</th>\n",
       "      <th>KeyUSFacts_POPGRW10CY</th>\n",
       "      <th>KeyUSFacts_HHGRW10CY</th>\n",
       "      <th>KeyUSFacts_FAMGRW10CY</th>\n",
       "      <th>KeyUSFacts_DPOP_CY</th>\n",
       "      <th>KeyUSFacts_DPOPWRK_CY</th>\n",
       "      <th>KeyUSFacts_DPOPRES_CY</th>\n",
       "      <th>SHAPE</th>\n",
       "    </tr>\n",
       "  </thead>\n",
       "  <tbody>\n",
       "    <tr>\n",
       "      <th>0</th>\n",
       "      <td>1</td>\n",
       "      <td>8928d590297ffff</td>\n",
       "      <td>0</td>\n",
       "      <td>BlockApportionment:US.BlockGroups</td>\n",
       "      <td>0.0</td>\n",
       "      <td>0.0</td>\n",
       "      <td>0.0</td>\n",
       "      <td>0.0</td>\n",
       "      <td>0.00</td>\n",
       "      <td>0.0</td>\n",
       "      <td>...</td>\n",
       "      <td>0.0</td>\n",
       "      <td>0.0</td>\n",
       "      <td>0.0</td>\n",
       "      <td>0.00</td>\n",
       "      <td>0.00</td>\n",
       "      <td>0.00</td>\n",
       "      <td>0.0</td>\n",
       "      <td>0.0</td>\n",
       "      <td>0.0</td>\n",
       "      <td>{\"rings\": [[[-122.94740574999997, 47.024184694...</td>\n",
       "    </tr>\n",
       "    <tr>\n",
       "      <th>1</th>\n",
       "      <td>2</td>\n",
       "      <td>8928d5902b3ffff</td>\n",
       "      <td>1</td>\n",
       "      <td>BlockApportionment:US.BlockGroups</td>\n",
       "      <td>382.0</td>\n",
       "      <td>0.0</td>\n",
       "      <td>31.1</td>\n",
       "      <td>160.0</td>\n",
       "      <td>2.39</td>\n",
       "      <td>100000.0</td>\n",
       "      <td>...</td>\n",
       "      <td>5.0</td>\n",
       "      <td>398913.0</td>\n",
       "      <td>431803.0</td>\n",
       "      <td>0.76</td>\n",
       "      <td>0.70</td>\n",
       "      <td>0.56</td>\n",
       "      <td>286.0</td>\n",
       "      <td>96.0</td>\n",
       "      <td>190.0</td>\n",
       "      <td>{\"rings\": [[[-122.95158429099996, 47.028134405...</td>\n",
       "    </tr>\n",
       "    <tr>\n",
       "      <th>2</th>\n",
       "      <td>3</td>\n",
       "      <td>8928d591533ffff</td>\n",
       "      <td>0</td>\n",
       "      <td>BlockApportionment:US.BlockGroups</td>\n",
       "      <td>0.0</td>\n",
       "      <td>0.0</td>\n",
       "      <td>0.0</td>\n",
       "      <td>0.0</td>\n",
       "      <td>0.00</td>\n",
       "      <td>0.0</td>\n",
       "      <td>...</td>\n",
       "      <td>0.0</td>\n",
       "      <td>0.0</td>\n",
       "      <td>0.0</td>\n",
       "      <td>0.00</td>\n",
       "      <td>0.00</td>\n",
       "      <td>0.00</td>\n",
       "      <td>0.0</td>\n",
       "      <td>0.0</td>\n",
       "      <td>0.0</td>\n",
       "      <td>{\"rings\": [[[-122.92062630199996, 47.028123088...</td>\n",
       "    </tr>\n",
       "    <tr>\n",
       "      <th>3</th>\n",
       "      <td>4</td>\n",
       "      <td>8928d5916afffff</td>\n",
       "      <td>1</td>\n",
       "      <td>BlockApportionment:US.BlockGroups</td>\n",
       "      <td>59.0</td>\n",
       "      <td>1.0</td>\n",
       "      <td>43.6</td>\n",
       "      <td>23.0</td>\n",
       "      <td>2.52</td>\n",
       "      <td>85043.0</td>\n",
       "      <td>...</td>\n",
       "      <td>0.0</td>\n",
       "      <td>342857.0</td>\n",
       "      <td>369444.0</td>\n",
       "      <td>0.31</td>\n",
       "      <td>0.40</td>\n",
       "      <td>0.62</td>\n",
       "      <td>64.0</td>\n",
       "      <td>37.0</td>\n",
       "      <td>27.0</td>\n",
       "      <td>{\"rings\": [[[-122.87055727599994, 47.031318454...</td>\n",
       "    </tr>\n",
       "    <tr>\n",
       "      <th>4</th>\n",
       "      <td>5</td>\n",
       "      <td>8928d591433ffff</td>\n",
       "      <td>1</td>\n",
       "      <td>BlockApportionment:US.BlockGroups</td>\n",
       "      <td>154.0</td>\n",
       "      <td>0.0</td>\n",
       "      <td>31.4</td>\n",
       "      <td>60.0</td>\n",
       "      <td>2.57</td>\n",
       "      <td>85889.0</td>\n",
       "      <td>...</td>\n",
       "      <td>0.0</td>\n",
       "      <td>370000.0</td>\n",
       "      <td>425962.0</td>\n",
       "      <td>0.41</td>\n",
       "      <td>0.46</td>\n",
       "      <td>0.47</td>\n",
       "      <td>129.0</td>\n",
       "      <td>48.0</td>\n",
       "      <td>81.0</td>\n",
       "      <td>{\"rings\": [[[-122.89294779499994, 47.020566091...</td>\n",
       "    </tr>\n",
       "  </tbody>\n",
       "</table>\n",
       "<p>5 rows × 25 columns</p>\n",
       "</div>"
      ],
      "text/plain": [
       "   OBJECTID            h3_09  HasData                  aggregationMethod  \\\n",
       "0         1  8928d590297ffff        0  BlockApportionment:US.BlockGroups   \n",
       "1         2  8928d5902b3ffff        1  BlockApportionment:US.BlockGroups   \n",
       "2         3  8928d591533ffff        0  BlockApportionment:US.BlockGroups   \n",
       "3         4  8928d5916afffff        1  BlockApportionment:US.BlockGroups   \n",
       "4         5  8928d591433ffff        1  BlockApportionment:US.BlockGroups   \n",
       "\n",
       "   KeyUSFacts_TOTPOP_CY  KeyUSFacts_GQPOP_CY  KeyUSFacts_DIVINDX_CY  \\\n",
       "0                   0.0                  0.0                    0.0   \n",
       "1                 382.0                  0.0                   31.1   \n",
       "2                   0.0                  0.0                    0.0   \n",
       "3                  59.0                  1.0                   43.6   \n",
       "4                 154.0                  0.0                   31.4   \n",
       "\n",
       "   KeyUSFacts_TOTHH_CY  KeyUSFacts_AVGHHSZ_CY  KeyUSFacts_MEDHINC_CY  ...  \\\n",
       "0                  0.0                   0.00                    0.0  ...   \n",
       "1                160.0                   2.39               100000.0  ...   \n",
       "2                  0.0                   0.00                    0.0  ...   \n",
       "3                 23.0                   2.52                85043.0  ...   \n",
       "4                 60.0                   2.57                85889.0  ...   \n",
       "\n",
       "   KeyUSFacts_VACANT_CY  KeyUSFacts_MEDVAL_CY  KeyUSFacts_AVGVAL_CY  \\\n",
       "0                   0.0                   0.0                   0.0   \n",
       "1                   5.0              398913.0              431803.0   \n",
       "2                   0.0                   0.0                   0.0   \n",
       "3                   0.0              342857.0              369444.0   \n",
       "4                   0.0              370000.0              425962.0   \n",
       "\n",
       "   KeyUSFacts_POPGRW10CY  KeyUSFacts_HHGRW10CY  KeyUSFacts_FAMGRW10CY  \\\n",
       "0                   0.00                  0.00                   0.00   \n",
       "1                   0.76                  0.70                   0.56   \n",
       "2                   0.00                  0.00                   0.00   \n",
       "3                   0.31                  0.40                   0.62   \n",
       "4                   0.41                  0.46                   0.47   \n",
       "\n",
       "   KeyUSFacts_DPOP_CY  KeyUSFacts_DPOPWRK_CY  KeyUSFacts_DPOPRES_CY  \\\n",
       "0                 0.0                    0.0                    0.0   \n",
       "1               286.0                   96.0                  190.0   \n",
       "2                 0.0                    0.0                    0.0   \n",
       "3                64.0                   37.0                   27.0   \n",
       "4               129.0                   48.0                   81.0   \n",
       "\n",
       "                                               SHAPE  \n",
       "0  {\"rings\": [[[-122.94740574999997, 47.024184694...  \n",
       "1  {\"rings\": [[[-122.95158429099996, 47.028134405...  \n",
       "2  {\"rings\": [[[-122.92062630199996, 47.028123088...  \n",
       "3  {\"rings\": [[[-122.87055727599994, 47.031318454...  \n",
       "4  {\"rings\": [[[-122.89294779499994, 47.020566091...  \n",
       "\n",
       "[5 rows x 25 columns]"
      ]
     },
     "execution_count": 9,
     "metadata": {},
     "output_type": "execute_result"
    }
   ],
   "source": [
    "enrich_df = GeoAccessor.from_featureclass(enrich_fc)\n",
    "\n",
    "print(enrich_df.info())\n",
    "enrich_df.head()"
   ]
  },
  {
   "cell_type": "markdown",
   "metadata": {
    "slideshow": {
     "slide_type": "slide"
    }
   },
   "source": [
    "### Keep Only Needed Columns\n",
    "\n",
    "By introspectively looking at the inputs we can create a list of only what we want in the output."
   ]
  },
  {
   "cell_type": "code",
   "execution_count": 10,
   "metadata": {
    "slideshow": {
     "slide_type": "fragment"
    }
   },
   "outputs": [
    {
     "name": "stdout",
     "output_type": "stream",
     "text": [
      "<class 'pandas.core.frame.DataFrame'>\n",
      "RangeIndex: 625 entries, 0 to 624\n",
      "Data columns (total 23 columns):\n",
      " #   Column                 Non-Null Count  Dtype   \n",
      "---  ------                 --------------  -----   \n",
      " 0   h3_09                  625 non-null    object  \n",
      " 1   HasData                625 non-null    int64   \n",
      " 2   KeyUSFacts_TOTPOP_CY   625 non-null    float64 \n",
      " 3   KeyUSFacts_GQPOP_CY    625 non-null    float64 \n",
      " 4   KeyUSFacts_DIVINDX_CY  625 non-null    float64 \n",
      " 5   KeyUSFacts_TOTHH_CY    625 non-null    float64 \n",
      " 6   KeyUSFacts_AVGHHSZ_CY  625 non-null    float64 \n",
      " 7   KeyUSFacts_MEDHINC_CY  625 non-null    float64 \n",
      " 8   KeyUSFacts_AVGHINC_CY  625 non-null    float64 \n",
      " 9   KeyUSFacts_PCI_CY      625 non-null    float64 \n",
      " 10  KeyUSFacts_TOTHU_CY    625 non-null    float64 \n",
      " 11  KeyUSFacts_OWNER_CY    625 non-null    float64 \n",
      " 12  KeyUSFacts_RENTER_CY   625 non-null    float64 \n",
      " 13  KeyUSFacts_VACANT_CY   625 non-null    float64 \n",
      " 14  KeyUSFacts_MEDVAL_CY   625 non-null    float64 \n",
      " 15  KeyUSFacts_AVGVAL_CY   625 non-null    float64 \n",
      " 16  KeyUSFacts_POPGRW10CY  625 non-null    float64 \n",
      " 17  KeyUSFacts_HHGRW10CY   625 non-null    float64 \n",
      " 18  KeyUSFacts_FAMGRW10CY  625 non-null    float64 \n",
      " 19  KeyUSFacts_DPOP_CY     625 non-null    float64 \n",
      " 20  KeyUSFacts_DPOPWRK_CY  625 non-null    float64 \n",
      " 21  KeyUSFacts_DPOPRES_CY  625 non-null    float64 \n",
      " 22  SHAPE                  625 non-null    geometry\n",
      "dtypes: float64(20), geometry(1), int64(1), object(1)\n",
      "memory usage: 112.4+ KB\n"
     ]
    }
   ],
   "source": [
    "drop_cols = [c for c in enrich_df.columns if not\n",
    "    (c in kv.enrich_field_name.values           # enrich variables' output field names\n",
    "     or c in h3_df.columns                      # input data column names\n",
    "     or c.lower() == 'hasdata')                 # useful column to know if was enriched based on apportionment\n",
    "]\n",
    "enrich_df.drop(columns=drop_cols, inplace=True)\n",
    "\n",
    "enrich_df.info()"
   ]
  },
  {
   "cell_type": "markdown",
   "metadata": {
    "slideshow": {
     "slide_type": "slide"
    }
   },
   "source": [
    "## Clean up Column Names\n",
    "\n",
    "We also can use a short helper function with a list comprehension to retrieve just the variable name."
   ]
  },
  {
   "cell_type": "code",
   "execution_count": 11,
   "metadata": {
    "slideshow": {
     "slide_type": "fragment"
    }
   },
   "outputs": [
    {
     "name": "stdout",
     "output_type": "stream",
     "text": [
      "<class 'pandas.core.frame.DataFrame'>\n",
      "RangeIndex: 625 entries, 0 to 624\n",
      "Data columns (total 23 columns):\n",
      " #   Column      Non-Null Count  Dtype   \n",
      "---  ------      --------------  -----   \n",
      " 0   h3_09       625 non-null    object  \n",
      " 1   HasData     625 non-null    int64   \n",
      " 2   TOTPOP_CY   625 non-null    float64 \n",
      " 3   GQPOP_CY    625 non-null    float64 \n",
      " 4   DIVINDX_CY  625 non-null    float64 \n",
      " 5   TOTHH_CY    625 non-null    float64 \n",
      " 6   AVGHHSZ_CY  625 non-null    float64 \n",
      " 7   MEDHINC_CY  625 non-null    float64 \n",
      " 8   AVGHINC_CY  625 non-null    float64 \n",
      " 9   PCI_CY      625 non-null    float64 \n",
      " 10  TOTHU_CY    625 non-null    float64 \n",
      " 11  OWNER_CY    625 non-null    float64 \n",
      " 12  RENTER_CY   625 non-null    float64 \n",
      " 13  VACANT_CY   625 non-null    float64 \n",
      " 14  MEDVAL_CY   625 non-null    float64 \n",
      " 15  AVGVAL_CY   625 non-null    float64 \n",
      " 16  POPGRW10CY  625 non-null    float64 \n",
      " 17  HHGRW10CY   625 non-null    float64 \n",
      " 18  FAMGRW10CY  625 non-null    float64 \n",
      " 19  DPOP_CY     625 non-null    float64 \n",
      " 20  DPOPWRK_CY  625 non-null    float64 \n",
      " 21  DPOPRES_CY  625 non-null    float64 \n",
      " 22  SHAPE       625 non-null    geometry\n",
      "dtypes: float64(20), geometry(1), int64(1), object(1)\n",
      "memory usage: 112.4+ KB\n",
      "None\n"
     ]
    }
   ],
   "source": [
    "def lookup_column(col_nm):\n",
    "    lookup_fltr = ev.enrich_field_name.str.contains(col_nm)\n",
    "    if any(lookup_fltr):\n",
    "        col_nm = ev[lookup_fltr]['name'].iloc[0]\n",
    "    return col_nm\n",
    "\n",
    "enrich_df.columns = [lookup_column(c) for c in enrich_df.columns]\n",
    "\n",
    "print(enrich_df.info())"
   ]
  },
  {
   "cell_type": "markdown",
   "metadata": {
    "slideshow": {
     "slide_type": "slide"
    }
   },
   "source": [
    "## Save Results\n",
    "\n",
    "Finally, the results can be saved using the `pd.spatial.to_featureclass` method, or alternately, if desired, the results can also be saved back to a CSV file. However, the geometry objects must be deserialized back to strings before exporting. This is accomplished using the `Geometry.JSON` method."
   ]
  },
  {
   "cell_type": "code",
   "execution_count": 12,
   "metadata": {
    "slideshow": {
     "slide_type": "fragment"
    }
   },
   "outputs": [],
   "source": [
    "# convert geometry objects to strings\n",
    "enrich_df[enrich_df.spatial.name] = enrich_df[enrich_df.spatial.name].apply(lambda geom: geom.JSON)\n",
    "\n",
    "# save to interim data diretory for further analysis\n",
    "dir_int.mkdir(exist_ok=True)\n",
    "enrich_df.to_csv(dir_int/'enrich_olympia_local.csv')"
   ]
  }
 ],
 "metadata": {
  "kernelspec": {
   "display_name": "Python 3",
   "language": "python",
   "name": "python3"
  },
  "language_info": {
   "codemirror_mode": {
    "name": "ipython",
    "version": 3
   },
   "file_extension": ".py",
   "mimetype": "text/x-python",
   "name": "python",
   "nbconvert_exporter": "python",
   "pygments_lexer": "ipython3",
   "version": "3.7.10"
  }
 },
 "nbformat": 4,
 "nbformat_minor": 4
}
