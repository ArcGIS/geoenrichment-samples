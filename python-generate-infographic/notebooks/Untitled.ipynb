{
 "cells": [
  {
   "cell_type": "code",
   "execution_count": 14,
   "id": "9dcb2b74",
   "metadata": {},
   "outputs": [],
   "source": [
    "import os\n",
    "from tempfile import tempdir\n",
    "from pathlib import Path\n",
    "\n",
    "from arcgis.gis import GIS\n",
    "from dotenv import load_dotenv, find_dotenv\n",
    "\n",
    "from generate_infographic import custom_create_report"
   ]
  },
  {
   "cell_type": "code",
   "execution_count": 16,
   "id": "8a189b45",
   "metadata": {},
   "outputs": [],
   "source": [
    "report_item_id = '2ce64a16cb3c431186a47c6a42156515'  # Demographic Summary built-in infographic"
   ]
  },
  {
   "cell_type": "code",
   "execution_count": 17,
   "id": "35cc6e2c",
   "metadata": {},
   "outputs": [],
   "source": [
    "load_dotenv(find_dotenv())\n",
    "\n",
    "url, user, pswd = [os.getenv(itm) for itm in ['AGOL_URL', 'AGOL_USERNAME', 'AGOL_PASSWORD']]\n",
    "assert all([url, user, pswd])\n",
    "\n",
    "gis = GIS(url, username=user, password=pswd)"
   ]
  },
  {
   "cell_type": "code",
   "execution_count": 18,
   "id": "85cb0e1d",
   "metadata": {},
   "outputs": [
    {
     "data": {
      "text/html": [
       "<div class=\"item_container\" style=\"height: auto; overflow: hidden; border: 1px solid #cfcfcf; border-radius: 2px; background: #f6fafa; line-height: 1.21429em; padding: 10px;\">\n",
       "                    <div class=\"item_left\" style=\"width: 210px; float: left;\">\n",
       "                       <a href='https://baqa.mapsqa.arcgis.com/home/item.html?id=2ce64a16cb3c431186a47c6a42156515' target='_blank'>\n",
       "                        <img src='data:image/png;base64,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' width='200' height='133' class=\"itemThumbnail\">\n",
       "                       </a>\n",
       "                    </div>\n",
       "\n",
       "                    <div class=\"item_right\"     style=\"float: none; width: auto; overflow: hidden;\">\n",
       "                        <a href='https://baqa.mapsqa.arcgis.com/home/item.html?id=2ce64a16cb3c431186a47c6a42156515' target='_blank'><b>Demographic Summary</b>\n",
       "                        </a>\n",
       "                        <br/><img src='https://baqa.mapsqa.arcgis.com/home/js/jsapi/esri/css/images/item_type_icons/layers16.png' style=\"vertical-align:middle;\">Report Template by esri_reports\n",
       "                        <br/>Last Modified: August 15, 2021\n",
       "                        <br/>0 comments, 0 views\n",
       "                    </div>\n",
       "                </div>\n",
       "                "
      ],
      "text/plain": [
       "<Item title:\"Demographic Summary\" type:Report Template owner:esri_reports>"
      ]
     },
     "execution_count": 18,
     "metadata": {},
     "output_type": "execute_result"
    }
   ],
   "source": [
    "gis.content.get(report_item_id)"
   ]
  },
  {
   "cell_type": "code",
   "execution_count": null,
   "id": "7927ef5d",
   "metadata": {},
   "outputs": [],
   "source": []
  }
 ],
 "metadata": {
  "kernelspec": {
   "display_name": "Python 3 (ipykernel)",
   "language": "python",
   "name": "python3"
  },
  "language_info": {
   "codemirror_mode": {
    "name": "ipython",
    "version": 3
   },
   "file_extension": ".py",
   "mimetype": "text/x-python",
   "name": "python",
   "nbconvert_exporter": "python",
   "pygments_lexer": "ipython3",
   "version": "3.7.10"
  }
 },
 "nbformat": 4,
 "nbformat_minor": 5
}
